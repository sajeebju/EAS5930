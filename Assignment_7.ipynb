{
 "cells": [
  {
   "cell_type": "code",
   "execution_count": 2,
   "id": "a823b15f",
   "metadata": {},
   "outputs": [
    {
     "data": {
      "text/html": [
       "<div>\n",
       "<style scoped>\n",
       "    .dataframe tbody tr th:only-of-type {\n",
       "        vertical-align: middle;\n",
       "    }\n",
       "\n",
       "    .dataframe tbody tr th {\n",
       "        vertical-align: top;\n",
       "    }\n",
       "\n",
       "    .dataframe thead th {\n",
       "        text-align: right;\n",
       "    }\n",
       "</style>\n",
       "<table border=\"1\" class=\"dataframe\">\n",
       "  <thead>\n",
       "    <tr style=\"text-align: right;\">\n",
       "      <th></th>\n",
       "      <th>PHI_E</th>\n",
       "      <th>LAMBDA_E</th>\n",
       "      <th>PHI_S</th>\n",
       "      <th>LAMBDA_S</th>\n",
       "    </tr>\n",
       "  </thead>\n",
       "  <tbody>\n",
       "    <tr>\n",
       "      <th>0</th>\n",
       "      <td>40</td>\n",
       "      <td>0</td>\n",
       "      <td>50</td>\n",
       "      <td>10</td>\n",
       "    </tr>\n",
       "    <tr>\n",
       "      <th>1</th>\n",
       "      <td>60</td>\n",
       "      <td>0</td>\n",
       "      <td>70</td>\n",
       "      <td>10</td>\n",
       "    </tr>\n",
       "    <tr>\n",
       "      <th>2</th>\n",
       "      <td>0</td>\n",
       "      <td>-30</td>\n",
       "      <td>60</td>\n",
       "      <td>60</td>\n",
       "    </tr>\n",
       "    <tr>\n",
       "      <th>3</th>\n",
       "      <td>40</td>\n",
       "      <td>0</td>\n",
       "      <td>41</td>\n",
       "      <td>1</td>\n",
       "    </tr>\n",
       "  </tbody>\n",
       "</table>\n",
       "</div>"
      ],
      "text/plain": [
       "   PHI_E  LAMBDA_E  PHI_S  LAMBDA_S\n",
       "0     40         0     50        10\n",
       "1     60         0     70        10\n",
       "2      0       -30     60        60\n",
       "3     40         0     41         1"
      ]
     },
     "execution_count": 2,
     "metadata": {},
     "output_type": "execute_result"
    }
   ],
   "source": [
    "import numpy as np\n",
    "import pandas as pd\n",
    "\n",
    "dataset = pd.DataFrame({\n",
    "    \"PHI_E\" : [40, 60, 0,40],\n",
    "    \"LAMBDA_E\" : [0, 0, -30,0],\n",
    "    \"PHI_S\" : [50, 70, 60,41],\n",
    "    \"LAMBDA_S\" : [10, 10, 60,1]\n",
    "})\n",
    "dataset"
   ]
  },
  {
   "cell_type": "code",
   "execution_count": 3,
   "id": "5d10d487",
   "metadata": {},
   "outputs": [],
   "source": [
    "e1 = np.array(np.cos(np.radians(dataset[\"LAMBDA_E\"]))*np.cos(np.radians(dataset[\"PHI_E\"])))\n",
    "e2 = np.array(np.sin(np.radians(dataset[\"LAMBDA_E\"]))*np.cos(np.radians(dataset[\"PHI_E\"])))\n",
    "e3 = np.array(np.sin(np.radians(dataset[\"PHI_E\"])))\n",
    "\n",
    "s1 = np.array(np.cos(np.radians(dataset[\"LAMBDA_S\"]))*np.cos(np.radians(dataset[\"PHI_S\"])))\n",
    "s2 = np.array(np.sin(np.radians(dataset[\"LAMBDA_S\"]))*np.cos(np.radians(dataset[\"PHI_S\"])))\n",
    "s3 = np.array(np.sin(np.radians(dataset[\"PHI_S\"])))"
   ]
  },
  {
   "cell_type": "code",
   "execution_count": 4,
   "id": "6cc19957",
   "metadata": {},
   "outputs": [
    {
     "data": {
      "text/plain": [
       "array([12.22406963, 10.82367924, 90.        ,  1.25625007])"
      ]
     },
     "execution_count": 4,
     "metadata": {},
     "output_type": "execute_result"
    }
   ],
   "source": [
    "cos_d = e1*s1 + e2*s2 + e3*s3\n",
    "\n",
    "sin_d_half = 0.5 * np.sqrt( np.power((s1 - e1),2) + np.power((s2 - e2),2) + np.power((s3 - e3),2))\n",
    "cos_d_half = 0.5 * np.sqrt( np.power((s1 + e1),2) + np.power((s2 + e2),2) + np.power((s3 + e3),2))\n",
    "\n",
    "sin_d = 0.5*2*2*sin_d_half * cos_d_half\n",
    "\n",
    "d = np.degrees(np.arctan(sin_d / cos_d))\n",
    "d"
   ]
  },
  {
   "cell_type": "code",
   "execution_count": 5,
   "id": "96886b10",
   "metadata": {},
   "outputs": [
    {
     "name": "stdout",
     "output_type": "stream",
     "text": [
      "distance for 1st row = 1359.26 km\n",
      "distance for 2nd row = 1203.54 km\n",
      "distance for 3rd row = 10007.55 km\n",
      "distance for 4th row = 139.69 km\n"
     ]
    }
   ],
   "source": [
    "dist_km = d*111.195\n",
    "\n",
    "print(\"distance for 1st row = {:.2f} km\".format(dist_km[0]))\n",
    "print(\"distance for 2nd row = {:.2f} km\".format(dist_km[1]))\n",
    "print(\"distance for 3rd row = {:.2f} km\".format(dist_km[2]))\n",
    "print(\"distance for 4th row = {:.2f} km\".format(dist_km[3]))"
   ]
  },
  {
   "cell_type": "markdown",
   "id": "483d7f40",
   "metadata": {},
   "source": [
    "## Azimuth calculation\n",
    "\n",
    "$$ Az = atan2(\\cos\\phi_s \\cos\\phi_e \\sin(\\lambda_s - \\lambda_e) , \\sin\\phi_s - \\cos\\Delta\\sin\\phi_e) $$"
   ]
  },
  {
   "cell_type": "code",
   "execution_count": 6,
   "id": "b4115863",
   "metadata": {},
   "outputs": [
    {
     "name": "stdout",
     "output_type": "stream",
     "text": [
      "Azimuth for the 1st row = 31.81°\n",
      "Azimuth for the 2nd row = 18.44°\n",
      "Azimuth for the 3rd row = 30.00°\n",
      "Azimuth for the 4th row = 36.93°\n"
     ]
    }
   ],
   "source": [
    "# Azimuth calculation\n",
    "\n",
    "y = np.cos(np.radians(dataset[\"PHI_S\"]))*np.cos(np.radians(dataset[\"PHI_E\"]))* np.sin(\n",
    "    np.radians(dataset[\"LAMBDA_S\"]) - np.radians(dataset[\"LAMBDA_E\"]))\n",
    "x = np.sin(np.radians(dataset[\"PHI_S\"])) - (cos_d* np.sin(np.radians(dataset[\"PHI_E\"])))\n",
    "azimuth = np.degrees(np.arctan(y/x))\n",
    "\n",
    "print(\"Azimuth for the 1st row = {:.2f}\".format(azimuth[0])+chr(176))\n",
    "print(\"Azimuth for the 2nd row = {:.2f}\".format(azimuth[1])+chr(176))\n",
    "print(\"Azimuth for the 3rd row = {:.2f}\".format(azimuth[2])+chr(176))\n",
    "print(\"Azimuth for the 4th row = {:.2f}\".format(azimuth[3])+chr(176))"
   ]
  },
  {
   "cell_type": "markdown",
   "id": "a1256810",
   "metadata": {},
   "source": [
    "# Developing formula for calculating back azimuth\n",
    "\n",
    "To calculate backazimuth, the equation can be developed in such a way, just interchanging the coordinates of the given equation and adding 180 for calculating Azimuth.\n",
    "\n",
    "\n",
    "$$ Az = atan2(\\cos\\phi_s \\cos\\phi_e \\sin(\\lambda_s - \\lambda_e) , \\sin\\phi_s - \\cos\\Delta\\sin\\phi_e) $$\n",
    "$$ Baz = atan2(\\cos\\phi_e \\cos\\phi_s \\sin(\\lambda_e - \\lambda_s) , \\sin\\phi_e - \\cos\\Delta\\sin\\phi_s) + 180 $$\n"
   ]
  },
  {
   "cell_type": "code",
   "execution_count": 7,
   "id": "8f170065",
   "metadata": {},
   "outputs": [
    {
     "name": "stdout",
     "output_type": "stream",
     "text": [
      "Baz 1st = 218.920943°\n",
      "Baz 2nd = 207.539077°\n",
      "Baz 3rd = 270.000000°\n",
      "Baz 4th = 217.575367°\n"
     ]
    }
   ],
   "source": [
    "#backazimuth calculation\n",
    "\n",
    "a = np.cos(np.radians(dataset[\"PHI_E\"]))*np.cos(np.radians(dataset[\"PHI_S\"]))*np.sin(\n",
    "    np.radians(dataset[\"LAMBDA_E\"]) - np.radians(dataset[\"LAMBDA_S\"]))\n",
    "b = np.sin(np.radians(dataset[\"PHI_E\"])) - (cos_d* np.sin(np.radians(dataset[\"PHI_S\"])))\n",
    "baz = np.degrees(np.arctan(a/b)) + 180\n",
    "\n",
    "print(\"Baz 1st = {:2f}\".format(baz[0]) + chr(176))\n",
    "print(\"Baz 2nd = {:2f}\".format(baz[1]) + chr(176))\n",
    "print(\"Baz 3rd = {:2f}\".format(baz[2]) + chr(176))\n",
    "print(\"Baz 4th = {:2f}\".format(baz[3]) + chr(176))"
   ]
  },
  {
   "cell_type": "code",
   "execution_count": 8,
   "id": "a91a9298",
   "metadata": {},
   "outputs": [
    {
     "data": {
      "text/html": [
       "<div>\n",
       "<style scoped>\n",
       "    .dataframe tbody tr th:only-of-type {\n",
       "        vertical-align: middle;\n",
       "    }\n",
       "\n",
       "    .dataframe tbody tr th {\n",
       "        vertical-align: top;\n",
       "    }\n",
       "\n",
       "    .dataframe thead th {\n",
       "        text-align: right;\n",
       "    }\n",
       "</style>\n",
       "<table border=\"1\" class=\"dataframe\">\n",
       "  <thead>\n",
       "    <tr style=\"text-align: right;\">\n",
       "      <th></th>\n",
       "      <th>PHI_E</th>\n",
       "      <th>LAMBDA_E</th>\n",
       "      <th>PHI_S</th>\n",
       "      <th>LAMBDA_S</th>\n",
       "      <th>Dist(km)</th>\n",
       "      <th>Az(deg)</th>\n",
       "      <th>Baz(deg)</th>\n",
       "    </tr>\n",
       "  </thead>\n",
       "  <tbody>\n",
       "    <tr>\n",
       "      <th>0</th>\n",
       "      <td>40</td>\n",
       "      <td>0</td>\n",
       "      <td>50</td>\n",
       "      <td>10</td>\n",
       "      <td>1359.255422</td>\n",
       "      <td>31.813918</td>\n",
       "      <td>218.920943</td>\n",
       "    </tr>\n",
       "    <tr>\n",
       "      <th>1</th>\n",
       "      <td>60</td>\n",
       "      <td>0</td>\n",
       "      <td>70</td>\n",
       "      <td>10</td>\n",
       "      <td>1203.539013</td>\n",
       "      <td>18.437403</td>\n",
       "      <td>207.539077</td>\n",
       "    </tr>\n",
       "    <tr>\n",
       "      <th>2</th>\n",
       "      <td>0</td>\n",
       "      <td>-30</td>\n",
       "      <td>60</td>\n",
       "      <td>60</td>\n",
       "      <td>10007.550000</td>\n",
       "      <td>30.000000</td>\n",
       "      <td>270.000000</td>\n",
       "    </tr>\n",
       "    <tr>\n",
       "      <th>3</th>\n",
       "      <td>40</td>\n",
       "      <td>0</td>\n",
       "      <td>41</td>\n",
       "      <td>1</td>\n",
       "      <td>139.688727</td>\n",
       "      <td>36.925885</td>\n",
       "      <td>217.575367</td>\n",
       "    </tr>\n",
       "  </tbody>\n",
       "</table>\n",
       "</div>"
      ],
      "text/plain": [
       "   PHI_E  LAMBDA_E  PHI_S  LAMBDA_S      Dist(km)    Az(deg)    Baz(deg)\n",
       "0     40         0     50        10   1359.255422  31.813918  218.920943\n",
       "1     60         0     70        10   1203.539013  18.437403  207.539077\n",
       "2      0       -30     60        60  10007.550000  30.000000  270.000000\n",
       "3     40         0     41         1    139.688727  36.925885  217.575367"
      ]
     },
     "execution_count": 8,
     "metadata": {},
     "output_type": "execute_result"
    }
   ],
   "source": [
    "# generating the entire dataset\n",
    "\n",
    "dataset[\"Dist(km)\"] = dist_km\n",
    "dataset[\"Az(deg)\"] = azimuth\n",
    "dataset[\"Baz(deg)\"] = baz\n",
    "dataset"
   ]
  },
  {
   "cell_type": "markdown",
   "id": "8231c8c2",
   "metadata": {},
   "source": [
    "## Comparison with the solutions of Assignment 6\n",
    "\n",
    "$$ \\Delta x = 111.195(km/deg)(\\phi_s - \\phi_e) $$\n",
    "$$ \\Delta x = 111.195(km/deg)(\\lambda_s - \\lambda_e)\\cos \\frac{\\phi_e+\\phi_s}{2}$$\n",
    "$$\\Delta = \\sqrt(\\Delta x^2 + \\Delta y^2)$$\n",
    "$$Az = \\tan^-{(\\frac{\\Delta y}{\\Delta x})} $$\n",
    "$$Baz = \\tan^-{(\\frac{\\Delta y}{\\Delta x})} + 180 $$"
   ]
  },
  {
   "cell_type": "code",
   "execution_count": 9,
   "id": "8318dfc9",
   "metadata": {},
   "outputs": [],
   "source": [
    "# delX and delY\n",
    "delX = np.array(111.195*(dataset[\"PHI_S\"] - dataset[\"PHI_E\"]))\n",
    "delY = np.array(111.195*(dataset[\"LAMBDA_S\"] - dataset[\"LAMBDA_E\"])* \n",
    "                np.cos(np.radians((dataset[\"PHI_E\"] + dataset[\"PHI_S\"])/ 2)))\n",
    "\n",
    "# distance, azimuth, back azimuth to be included as columns of the earthquake dataset\n",
    "# assigning dist(km), azimuth, and backazimuth using the process, used in assignment 6\n",
    "\n",
    "dist_km_6 = np.sqrt(np.power(delX, 2) + np.power(delY, 2))\n",
    "azimuth_6 = np.degrees(np.arctan(delY/delX))\n",
    "baz_6 = np.degrees(np.arctan(delY/delX)) + 180"
   ]
  },
  {
   "cell_type": "code",
   "execution_count": 10,
   "id": "4e97a94a",
   "metadata": {},
   "outputs": [
    {
     "data": {
      "text/html": [
       "<div>\n",
       "<style scoped>\n",
       "    .dataframe tbody tr th:only-of-type {\n",
       "        vertical-align: middle;\n",
       "    }\n",
       "\n",
       "    .dataframe tbody tr th {\n",
       "        vertical-align: top;\n",
       "    }\n",
       "\n",
       "    .dataframe thead th {\n",
       "        text-align: right;\n",
       "    }\n",
       "</style>\n",
       "<table border=\"1\" class=\"dataframe\">\n",
       "  <thead>\n",
       "    <tr style=\"text-align: right;\">\n",
       "      <th></th>\n",
       "      <th>PHI_E</th>\n",
       "      <th>LAMBDA_E</th>\n",
       "      <th>PHI_S</th>\n",
       "      <th>LAMBDA_S</th>\n",
       "      <th>Dist(km)</th>\n",
       "      <th>Az(deg)</th>\n",
       "      <th>Baz(deg)</th>\n",
       "      <th>Dist(km)_6</th>\n",
       "      <th>Az(deg)_6</th>\n",
       "      <th>Baz(deg)_6</th>\n",
       "    </tr>\n",
       "  </thead>\n",
       "  <tbody>\n",
       "    <tr>\n",
       "      <th>0</th>\n",
       "      <td>40</td>\n",
       "      <td>0</td>\n",
       "      <td>50</td>\n",
       "      <td>10</td>\n",
       "      <td>1359.255422</td>\n",
       "      <td>31.813918</td>\n",
       "      <td>218.920943</td>\n",
       "      <td>1361.855060</td>\n",
       "      <td>35.264390</td>\n",
       "      <td>215.264390</td>\n",
       "    </tr>\n",
       "    <tr>\n",
       "      <th>1</th>\n",
       "      <td>60</td>\n",
       "      <td>0</td>\n",
       "      <td>70</td>\n",
       "      <td>10</td>\n",
       "      <td>1203.539013</td>\n",
       "      <td>18.437403</td>\n",
       "      <td>207.539077</td>\n",
       "      <td>1207.173294</td>\n",
       "      <td>22.909807</td>\n",
       "      <td>202.909807</td>\n",
       "    </tr>\n",
       "    <tr>\n",
       "      <th>2</th>\n",
       "      <td>0</td>\n",
       "      <td>-30</td>\n",
       "      <td>60</td>\n",
       "      <td>60</td>\n",
       "      <td>10007.550000</td>\n",
       "      <td>30.000000</td>\n",
       "      <td>270.000000</td>\n",
       "      <td>10937.315651</td>\n",
       "      <td>52.410911</td>\n",
       "      <td>232.410911</td>\n",
       "    </tr>\n",
       "    <tr>\n",
       "      <th>3</th>\n",
       "      <td>40</td>\n",
       "      <td>0</td>\n",
       "      <td>41</td>\n",
       "      <td>1</td>\n",
       "      <td>139.688727</td>\n",
       "      <td>36.925885</td>\n",
       "      <td>217.575367</td>\n",
       "      <td>139.691072</td>\n",
       "      <td>37.249575</td>\n",
       "      <td>217.249575</td>\n",
       "    </tr>\n",
       "  </tbody>\n",
       "</table>\n",
       "</div>"
      ],
      "text/plain": [
       "   PHI_E  LAMBDA_E  PHI_S  LAMBDA_S      Dist(km)    Az(deg)    Baz(deg)  \\\n",
       "0     40         0     50        10   1359.255422  31.813918  218.920943   \n",
       "1     60         0     70        10   1203.539013  18.437403  207.539077   \n",
       "2      0       -30     60        60  10007.550000  30.000000  270.000000   \n",
       "3     40         0     41         1    139.688727  36.925885  217.575367   \n",
       "\n",
       "     Dist(km)_6  Az(deg)_6  Baz(deg)_6  \n",
       "0   1361.855060  35.264390  215.264390  \n",
       "1   1207.173294  22.909807  202.909807  \n",
       "2  10937.315651  52.410911  232.410911  \n",
       "3    139.691072  37.249575  217.249575  "
      ]
     },
     "execution_count": 10,
     "metadata": {},
     "output_type": "execute_result"
    }
   ],
   "source": [
    "# generating an updated dataset for comparison between assignment 6 and 7 \n",
    "\n",
    "df = dataset.copy()\n",
    "df[\"Dist(km)_6\"] = dist_km_6\n",
    "df[\"Az(deg)_6\"] = azimuth_6\n",
    "df[\"Baz(deg)_6\"] = baz_6\n",
    "df"
   ]
  }
 ],
 "metadata": {
  "kernelspec": {
   "display_name": "Python 3 (ipykernel)",
   "language": "python",
   "name": "python3"
  },
  "language_info": {
   "codemirror_mode": {
    "name": "ipython",
    "version": 3
   },
   "file_extension": ".py",
   "mimetype": "text/x-python",
   "name": "python",
   "nbconvert_exporter": "python",
   "pygments_lexer": "ipython3",
   "version": "3.11.4"
  }
 },
 "nbformat": 4,
 "nbformat_minor": 5
}
