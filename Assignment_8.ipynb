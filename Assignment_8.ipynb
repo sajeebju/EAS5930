{
 "cells": [
  {
   "cell_type": "code",
   "execution_count": 27,
   "id": "b8cbf956",
   "metadata": {},
   "outputs": [
    {
     "data": {
      "text/html": [
       "<div>\n",
       "<style scoped>\n",
       "    .dataframe tbody tr th:only-of-type {\n",
       "        vertical-align: middle;\n",
       "    }\n",
       "\n",
       "    .dataframe tbody tr th {\n",
       "        vertical-align: top;\n",
       "    }\n",
       "\n",
       "    .dataframe thead th {\n",
       "        text-align: right;\n",
       "    }\n",
       "</style>\n",
       "<table border=\"1\" class=\"dataframe\">\n",
       "  <thead>\n",
       "    <tr style=\"text-align: right;\">\n",
       "      <th></th>\n",
       "      <th>PHI_E</th>\n",
       "      <th>LAMBDA_E</th>\n",
       "      <th>PHI_S</th>\n",
       "      <th>LAMBDA_S</th>\n",
       "    </tr>\n",
       "  </thead>\n",
       "  <tbody>\n",
       "    <tr>\n",
       "      <th>0</th>\n",
       "      <td>40</td>\n",
       "      <td>0</td>\n",
       "      <td>50</td>\n",
       "      <td>10</td>\n",
       "    </tr>\n",
       "    <tr>\n",
       "      <th>1</th>\n",
       "      <td>60</td>\n",
       "      <td>0</td>\n",
       "      <td>70</td>\n",
       "      <td>10</td>\n",
       "    </tr>\n",
       "    <tr>\n",
       "      <th>2</th>\n",
       "      <td>0</td>\n",
       "      <td>-30</td>\n",
       "      <td>60</td>\n",
       "      <td>60</td>\n",
       "    </tr>\n",
       "  </tbody>\n",
       "</table>\n",
       "</div>"
      ],
      "text/plain": [
       "   PHI_E  LAMBDA_E  PHI_S  LAMBDA_S\n",
       "0     40         0     50        10\n",
       "1     60         0     70        10\n",
       "2      0       -30     60        60"
      ]
     },
     "execution_count": 27,
     "metadata": {},
     "output_type": "execute_result"
    }
   ],
   "source": [
    "import numpy as np\n",
    "import pandas as pd\n",
    "\n",
    "a = 6378.137\n",
    "b = 6356.752\n",
    "f = 0.003352810664747481\n",
    "e_sqr = 0.00669437999014131\n",
    "\n",
    "#dataset for geographic latitudes\n",
    "#before correction\n",
    "\n",
    "df_8 = pd.DataFrame({\n",
    "    \"PHI_E\" : [40, 60, 0],\n",
    "    \"LAMBDA_E\" : [0, 0, -30],\n",
    "    \"PHI_S\" : [50, 70, 60],\n",
    "    \"LAMBDA_S\" : [10, 10, 60]\n",
    "})\n",
    "df_8"
   ]
  },
  {
   "cell_type": "code",
   "execution_count": 28,
   "id": "5b39f40e",
   "metadata": {},
   "outputs": [
    {
     "data": {
      "text/html": [
       "<div>\n",
       "<style scoped>\n",
       "    .dataframe tbody tr th:only-of-type {\n",
       "        vertical-align: middle;\n",
       "    }\n",
       "\n",
       "    .dataframe tbody tr th {\n",
       "        vertical-align: top;\n",
       "    }\n",
       "\n",
       "    .dataframe thead th {\n",
       "        text-align: right;\n",
       "    }\n",
       "</style>\n",
       "<table border=\"1\" class=\"dataframe\">\n",
       "  <thead>\n",
       "    <tr style=\"text-align: right;\">\n",
       "      <th></th>\n",
       "      <th>PHI_E_C</th>\n",
       "      <th>LAMBDA_E</th>\n",
       "      <th>PHI_S_C</th>\n",
       "      <th>LAMBDA_S</th>\n",
       "    </tr>\n",
       "  </thead>\n",
       "  <tbody>\n",
       "    <tr>\n",
       "      <th>0</th>\n",
       "      <td>39.810611</td>\n",
       "      <td>0</td>\n",
       "      <td>49.810390</td>\n",
       "      <td>10</td>\n",
       "    </tr>\n",
       "    <tr>\n",
       "      <th>1</th>\n",
       "      <td>59.833076</td>\n",
       "      <td>0</td>\n",
       "      <td>69.875993</td>\n",
       "      <td>10</td>\n",
       "    </tr>\n",
       "    <tr>\n",
       "      <th>2</th>\n",
       "      <td>0.000000</td>\n",
       "      <td>-30</td>\n",
       "      <td>59.833076</td>\n",
       "      <td>60</td>\n",
       "    </tr>\n",
       "  </tbody>\n",
       "</table>\n",
       "</div>"
      ],
      "text/plain": [
       "     PHI_E_C  LAMBDA_E    PHI_S_C  LAMBDA_S\n",
       "0  39.810611         0  49.810390        10\n",
       "1  59.833076         0  69.875993        10\n",
       "2   0.000000       -30  59.833076        60"
      ]
     },
     "execution_count": 28,
     "metadata": {},
     "output_type": "execute_result"
    }
   ],
   "source": [
    "# latitudes conversion from geographic to geocentric\n",
    "\n",
    "phi_e_c = np.degrees(np.arctan(((1 - e_sqr) * np.tan(np.radians(df_8[\"PHI_E\"])))))\n",
    "phi_s_c = np.degrees(np.arctan(((1 - e_sqr) * np.tan(np.radians(df_8[\"PHI_S\"])))))\n",
    "\n",
    "# creating new_dataset\n",
    "df_8 = pd.DataFrame({\n",
    "    \"PHI_E_C\" : phi_e_c,\n",
    "    \"LAMBDA_E\" : [0, 0, -30],\n",
    "    \"PHI_S_C\" : phi_s_c,\n",
    "    \"LAMBDA_S\" : [10, 10, 60]\n",
    "})\n",
    "\n",
    "df_8"
   ]
  },
  {
   "cell_type": "code",
   "execution_count": 29,
   "id": "526a14ae",
   "metadata": {},
   "outputs": [],
   "source": [
    "e1 = np.array(np.cos(np.radians(df_8[\"LAMBDA_E\"]))*np.cos(np.radians(df_8[\"PHI_E_C\"])))\n",
    "e2 = np.array(np.sin(np.radians(df_8[\"LAMBDA_E\"]))*np.cos(np.radians(df_8[\"PHI_E_C\"])))\n",
    "e3 = np.array(np.sin(np.radians(df_8[\"PHI_E_C\"])))\n",
    "\n",
    "s1 = np.array(np.cos(np.radians(df_8[\"LAMBDA_S\"]))*np.cos(np.radians(df_8[\"PHI_S_C\"])))\n",
    "s2 = np.array(np.sin(np.radians(df_8[\"LAMBDA_S\"]))*np.cos(np.radians(df_8[\"PHI_S_C\"])))\n",
    "s3 = np.array(np.sin(np.radians(df_8[\"PHI_S_C\"])))"
   ]
  },
  {
   "cell_type": "code",
   "execution_count": 30,
   "id": "2e3e3740",
   "metadata": {},
   "outputs": [
    {
     "name": "stdout",
     "output_type": "stream",
     "text": [
      "delta for 1st row = 12.24 deg\n",
      "delta for 2nd row = 10.87 deg\n",
      "delta for 3rd row = 90.00 deg\n"
     ]
    }
   ],
   "source": [
    "cos_d = e1*s1 + e2*s2 + e3*s3\n",
    "sin_d_half = 0.5 * np.sqrt( np.power((s1 - e1),2) + np.power((s2 - e2),2) + np.power((s3 - e3),2))\n",
    "cos_d_half = 0.5 * np.sqrt( np.power((s1 + e1),2) + np.power((s2 + e2),2) + np.power((s3 + e3),2))\n",
    "sin_d = 0.5*2*2*sin_d_half * cos_d_half\n",
    "\n",
    "delta = np.degrees(np.arctan(sin_d / cos_d))\n",
    "\n",
    "print(\"delta for 1st row = {:.2f} deg\".format(delta[0]))\n",
    "print(\"delta for 2nd row = {:.2f} deg\".format(delta[1]))\n",
    "print(\"delta for 3rd row = {:.2f} deg\".format(delta[2]))"
   ]
  },
  {
   "cell_type": "markdown",
   "id": "ca654f19",
   "metadata": {},
   "source": [
    "## Azimuth calculation\n",
    "\n",
    "$$ Az = atan2(\\cos\\phi_s \\cos\\phi_e \\sin(\\lambda_s - \\lambda_e) , \\sin\\phi_s - \\cos\\Delta\\sin\\phi_e) $$"
   ]
  },
  {
   "cell_type": "code",
   "execution_count": 31,
   "id": "3ff34bb3",
   "metadata": {},
   "outputs": [
    {
     "name": "stdout",
     "output_type": "stream",
     "text": [
      "Azimuth for the 1st row = 31.92°\n",
      "Azimuth for the 2nd row = 18.47°\n",
      "Azimuth for the 3rd row = 30.17°\n"
     ]
    }
   ],
   "source": [
    "# Azimuth calculation\n",
    "\n",
    "y = np.cos(np.radians(df_8[\"PHI_S_C\"]))*np.cos(np.radians(df_8[\"PHI_E_C\"]))* np.sin(\n",
    "    np.radians(df_8[\"LAMBDA_S\"]) - np.radians(df_8[\"LAMBDA_E\"]))\n",
    "x = np.sin(np.radians(df_8[\"PHI_S_C\"])) - (cos_d* np.sin(np.radians(df_8[\"PHI_E_C\"])))\n",
    "azimuth = np.degrees(np.arctan(y/x))\n",
    "\n",
    "print(\"Azimuth for the 1st row = {:.2f}\".format(azimuth[0])+chr(176))\n",
    "print(\"Azimuth for the 2nd row = {:.2f}\".format(azimuth[1])+chr(176))\n",
    "print(\"Azimuth for the 3rd row = {:.2f}\".format(azimuth[2])+chr(176))"
   ]
  },
  {
   "cell_type": "code",
   "execution_count": 32,
   "id": "35578dcb",
   "metadata": {},
   "outputs": [
    {
     "name": "stdout",
     "output_type": "stream",
     "text": [
      "Baz 1st = 218.998994°\n",
      "Baz 2nd = 207.557647°\n",
      "Baz 3rd = 270.000000°\n"
     ]
    }
   ],
   "source": [
    "#backazimuth calculation\n",
    "\n",
    "a = np.cos(np.radians(df_8[\"PHI_E_C\"]))*np.cos(np.radians(df_8[\"PHI_S_C\"]))*np.sin(\n",
    "    np.radians(df_8[\"LAMBDA_E\"]) - np.radians(df_8[\"LAMBDA_S\"]))\n",
    "b = np.sin(np.radians(df_8[\"PHI_E_C\"])) - (cos_d* np.sin(np.radians(df_8[\"PHI_S_C\"])))\n",
    "baz = np.degrees(np.arctan(a/b)) + 180\n",
    "\n",
    "print(\"Baz 1st = {:2f}\".format(baz[0]) + chr(176))\n",
    "print(\"Baz 2nd = {:2f}\".format(baz[1]) + chr(176))\n",
    "print(\"Baz 3rd = {:2f}\".format(baz[2]) + chr(176))"
   ]
  },
  {
   "cell_type": "markdown",
   "id": "56db96e0",
   "metadata": {},
   "source": [
    "## Dataset after correction into geocentric latitudes"
   ]
  },
  {
   "cell_type": "code",
   "execution_count": 33,
   "id": "f0345fae",
   "metadata": {},
   "outputs": [
    {
     "data": {
      "text/html": [
       "<div>\n",
       "<style scoped>\n",
       "    .dataframe tbody tr th:only-of-type {\n",
       "        vertical-align: middle;\n",
       "    }\n",
       "\n",
       "    .dataframe tbody tr th {\n",
       "        vertical-align: top;\n",
       "    }\n",
       "\n",
       "    .dataframe thead th {\n",
       "        text-align: right;\n",
       "    }\n",
       "</style>\n",
       "<table border=\"1\" class=\"dataframe\">\n",
       "  <thead>\n",
       "    <tr style=\"text-align: right;\">\n",
       "      <th></th>\n",
       "      <th>PHI_E_C</th>\n",
       "      <th>LAMBDA_E</th>\n",
       "      <th>PHI_S_C</th>\n",
       "      <th>LAMBDA_S</th>\n",
       "      <th>D(deg)</th>\n",
       "      <th>Az(deg)</th>\n",
       "      <th>Baz(deg)</th>\n",
       "    </tr>\n",
       "  </thead>\n",
       "  <tbody>\n",
       "    <tr>\n",
       "      <th>0</th>\n",
       "      <td>39.810611</td>\n",
       "      <td>0</td>\n",
       "      <td>49.810390</td>\n",
       "      <td>10</td>\n",
       "      <td>12.237479</td>\n",
       "      <td>31.915455</td>\n",
       "      <td>218.998994</td>\n",
       "    </tr>\n",
       "    <tr>\n",
       "      <th>1</th>\n",
       "      <td>59.833076</td>\n",
       "      <td>0</td>\n",
       "      <td>69.875993</td>\n",
       "      <td>10</td>\n",
       "      <td>10.872075</td>\n",
       "      <td>18.466435</td>\n",
       "      <td>207.557647</td>\n",
       "    </tr>\n",
       "    <tr>\n",
       "      <th>2</th>\n",
       "      <td>0.000000</td>\n",
       "      <td>-30</td>\n",
       "      <td>59.833076</td>\n",
       "      <td>60</td>\n",
       "      <td>90.000000</td>\n",
       "      <td>30.166924</td>\n",
       "      <td>270.000000</td>\n",
       "    </tr>\n",
       "  </tbody>\n",
       "</table>\n",
       "</div>"
      ],
      "text/plain": [
       "     PHI_E_C  LAMBDA_E    PHI_S_C  LAMBDA_S     D(deg)    Az(deg)    Baz(deg)\n",
       "0  39.810611         0  49.810390        10  12.237479  31.915455  218.998994\n",
       "1  59.833076         0  69.875993        10  10.872075  18.466435  207.557647\n",
       "2   0.000000       -30  59.833076        60  90.000000  30.166924  270.000000"
      ]
     },
     "execution_count": 33,
     "metadata": {},
     "output_type": "execute_result"
    }
   ],
   "source": [
    "# generating the entire dataset after converting into geocentrict latitudes\n",
    "\n",
    "df_8[\"D(deg)\"] = delta\n",
    "df_8[\"Az(deg)\"] = azimuth\n",
    "df_8[\"Baz(deg)\"] = baz\n",
    "df_8"
   ]
  },
  {
   "cell_type": "markdown",
   "id": "428c860f",
   "metadata": {},
   "source": [
    "## The codes from assignment 7"
   ]
  },
  {
   "cell_type": "code",
   "execution_count": 34,
   "id": "810ff988",
   "metadata": {},
   "outputs": [],
   "source": [
    "# Codes from assignment 7 using geographic latitudes\n",
    "dataset = pd.DataFrame({\n",
    "    \"PHI_E\" : [40, 60, 0],\n",
    "    \"LAMBDA_E\" : [0, 0, -30],\n",
    "    \"PHI_S\" : [50, 70, 60],\n",
    "    \"LAMBDA_S\" : [10, 10, 60]\n",
    "})\n",
    "\n",
    "e1 = np.array(np.cos(np.radians(dataset[\"LAMBDA_E\"]))*np.cos(np.radians(dataset[\"PHI_E\"])))\n",
    "e2 = np.array(np.sin(np.radians(dataset[\"LAMBDA_E\"]))*np.cos(np.radians(dataset[\"PHI_E\"])))\n",
    "e3 = np.array(np.sin(np.radians(dataset[\"PHI_E\"])))\n",
    "\n",
    "s1 = np.array(np.cos(np.radians(dataset[\"LAMBDA_S\"]))*np.cos(np.radians(dataset[\"PHI_S\"])))\n",
    "s2 = np.array(np.sin(np.radians(dataset[\"LAMBDA_S\"]))*np.cos(np.radians(dataset[\"PHI_S\"])))\n",
    "s3 = np.array(np.sin(np.radians(dataset[\"PHI_S\"])))\n",
    "\n",
    "cos_d = e1*s1 + e2*s2 + e3*s3\n",
    "sin_d_half = 0.5 * np.sqrt( np.power((s1 - e1),2) + np.power((s2 - e2),2) + np.power((s3 - e3),2))\n",
    "cos_d_half = 0.5 * np.sqrt( np.power((s1 + e1),2) + np.power((s2 + e2),2) + np.power((s3 + e3),2))\n",
    "sin_d = 0.5*2*2*sin_d_half * cos_d_half\n",
    "d = np.degrees(np.arctan(sin_d / cos_d))\n",
    "#dist_km = d*111.195\n",
    "\n",
    "# Azimuth calculation\n",
    "\n",
    "y = np.cos(np.radians(dataset[\"PHI_S\"]))*np.cos(np.radians(dataset[\"PHI_E\"]))* np.sin(\n",
    "    np.radians(dataset[\"LAMBDA_S\"]) - np.radians(dataset[\"LAMBDA_E\"]))\n",
    "x = np.sin(np.radians(dataset[\"PHI_S\"])) - (cos_d* np.sin(np.radians(dataset[\"PHI_E\"])))\n",
    "azimuth = np.degrees(np.arctan(y/x))\n",
    "\n",
    "#backazimuth calculation\n",
    "\n",
    "a = np.cos(np.radians(dataset[\"PHI_E\"]))*np.cos(np.radians(dataset[\"PHI_S\"]))*np.sin(\n",
    "    np.radians(dataset[\"LAMBDA_E\"]) - np.radians(dataset[\"LAMBDA_S\"]))\n",
    "b = np.sin(np.radians(dataset[\"PHI_E\"])) - (cos_d* np.sin(np.radians(dataset[\"PHI_S\"])))\n",
    "baz = np.degrees(np.arctan(a/b)) + 180"
   ]
  },
  {
   "cell_type": "markdown",
   "id": "38b77784",
   "metadata": {},
   "source": [
    "## dataset without geocentric latitudes correction"
   ]
  },
  {
   "cell_type": "code",
   "execution_count": 35,
   "id": "0d5b29f6",
   "metadata": {},
   "outputs": [
    {
     "data": {
      "text/html": [
       "<div>\n",
       "<style scoped>\n",
       "    .dataframe tbody tr th:only-of-type {\n",
       "        vertical-align: middle;\n",
       "    }\n",
       "\n",
       "    .dataframe tbody tr th {\n",
       "        vertical-align: top;\n",
       "    }\n",
       "\n",
       "    .dataframe thead th {\n",
       "        text-align: right;\n",
       "    }\n",
       "</style>\n",
       "<table border=\"1\" class=\"dataframe\">\n",
       "  <thead>\n",
       "    <tr style=\"text-align: right;\">\n",
       "      <th></th>\n",
       "      <th>PHI_E</th>\n",
       "      <th>LAMBDA_E</th>\n",
       "      <th>PHI_S</th>\n",
       "      <th>LAMBDA_S</th>\n",
       "      <th>D(deg)</th>\n",
       "      <th>Az(deg)</th>\n",
       "      <th>Baz(deg)</th>\n",
       "    </tr>\n",
       "  </thead>\n",
       "  <tbody>\n",
       "    <tr>\n",
       "      <th>0</th>\n",
       "      <td>40</td>\n",
       "      <td>0</td>\n",
       "      <td>50</td>\n",
       "      <td>10</td>\n",
       "      <td>12.224070</td>\n",
       "      <td>31.813918</td>\n",
       "      <td>218.920943</td>\n",
       "    </tr>\n",
       "    <tr>\n",
       "      <th>1</th>\n",
       "      <td>60</td>\n",
       "      <td>0</td>\n",
       "      <td>70</td>\n",
       "      <td>10</td>\n",
       "      <td>10.823679</td>\n",
       "      <td>18.437403</td>\n",
       "      <td>207.539077</td>\n",
       "    </tr>\n",
       "    <tr>\n",
       "      <th>2</th>\n",
       "      <td>0</td>\n",
       "      <td>-30</td>\n",
       "      <td>60</td>\n",
       "      <td>60</td>\n",
       "      <td>90.000000</td>\n",
       "      <td>30.000000</td>\n",
       "      <td>270.000000</td>\n",
       "    </tr>\n",
       "  </tbody>\n",
       "</table>\n",
       "</div>"
      ],
      "text/plain": [
       "   PHI_E  LAMBDA_E  PHI_S  LAMBDA_S     D(deg)    Az(deg)    Baz(deg)\n",
       "0     40         0     50        10  12.224070  31.813918  218.920943\n",
       "1     60         0     70        10  10.823679  18.437403  207.539077\n",
       "2      0       -30     60        60  90.000000  30.000000  270.000000"
      ]
     },
     "execution_count": 35,
     "metadata": {},
     "output_type": "execute_result"
    }
   ],
   "source": [
    "# generating the entire dataset\n",
    "\n",
    "dataset[\"D(deg)\"] = d\n",
    "dataset[\"Az(deg)\"] = azimuth\n",
    "dataset[\"Baz(deg)\"] = baz\n",
    "dataset"
   ]
  },
  {
   "cell_type": "markdown",
   "id": "3f0530b6",
   "metadata": {},
   "source": [
    "## Comparison between two dataset\n",
    "## Comparison between distance(km) on 2 dataframes\n",
    "## Comparison between them before and after correction into geocentric latitudes"
   ]
  },
  {
   "cell_type": "code",
   "execution_count": 36,
   "id": "1a814b28",
   "metadata": {},
   "outputs": [
    {
     "data": {
      "text/html": [
       "<div>\n",
       "<style scoped>\n",
       "    .dataframe tbody tr th:only-of-type {\n",
       "        vertical-align: middle;\n",
       "    }\n",
       "\n",
       "    .dataframe tbody tr th {\n",
       "        vertical-align: top;\n",
       "    }\n",
       "\n",
       "    .dataframe thead th {\n",
       "        text-align: right;\n",
       "    }\n",
       "</style>\n",
       "<table border=\"1\" class=\"dataframe\">\n",
       "  <thead>\n",
       "    <tr style=\"text-align: right;\">\n",
       "      <th></th>\n",
       "      <th>PHI_E_C</th>\n",
       "      <th>LAMBDA_E</th>\n",
       "      <th>PHI_S_C</th>\n",
       "      <th>LAMBDA_S</th>\n",
       "      <th>D(deg)</th>\n",
       "      <th>Az(deg)</th>\n",
       "      <th>Baz(deg)</th>\n",
       "    </tr>\n",
       "  </thead>\n",
       "  <tbody>\n",
       "    <tr>\n",
       "      <th>0</th>\n",
       "      <td>39.810611</td>\n",
       "      <td>0</td>\n",
       "      <td>49.810390</td>\n",
       "      <td>10</td>\n",
       "      <td>12.237479</td>\n",
       "      <td>31.915455</td>\n",
       "      <td>218.998994</td>\n",
       "    </tr>\n",
       "    <tr>\n",
       "      <th>1</th>\n",
       "      <td>59.833076</td>\n",
       "      <td>0</td>\n",
       "      <td>69.875993</td>\n",
       "      <td>10</td>\n",
       "      <td>10.872075</td>\n",
       "      <td>18.466435</td>\n",
       "      <td>207.557647</td>\n",
       "    </tr>\n",
       "    <tr>\n",
       "      <th>2</th>\n",
       "      <td>0.000000</td>\n",
       "      <td>-30</td>\n",
       "      <td>59.833076</td>\n",
       "      <td>60</td>\n",
       "      <td>90.000000</td>\n",
       "      <td>30.166924</td>\n",
       "      <td>270.000000</td>\n",
       "    </tr>\n",
       "  </tbody>\n",
       "</table>\n",
       "</div>"
      ],
      "text/plain": [
       "     PHI_E_C  LAMBDA_E    PHI_S_C  LAMBDA_S     D(deg)    Az(deg)    Baz(deg)\n",
       "0  39.810611         0  49.810390        10  12.237479  31.915455  218.998994\n",
       "1  59.833076         0  69.875993        10  10.872075  18.466435  207.557647\n",
       "2   0.000000       -30  59.833076        60  90.000000  30.166924  270.000000"
      ]
     },
     "execution_count": 36,
     "metadata": {},
     "output_type": "execute_result"
    }
   ],
   "source": [
    "# After correction into geocentric latitudes\n",
    "df_8"
   ]
  },
  {
   "cell_type": "code",
   "execution_count": 37,
   "id": "957484ce",
   "metadata": {},
   "outputs": [
    {
     "data": {
      "text/html": [
       "<div>\n",
       "<style scoped>\n",
       "    .dataframe tbody tr th:only-of-type {\n",
       "        vertical-align: middle;\n",
       "    }\n",
       "\n",
       "    .dataframe tbody tr th {\n",
       "        vertical-align: top;\n",
       "    }\n",
       "\n",
       "    .dataframe thead th {\n",
       "        text-align: right;\n",
       "    }\n",
       "</style>\n",
       "<table border=\"1\" class=\"dataframe\">\n",
       "  <thead>\n",
       "    <tr style=\"text-align: right;\">\n",
       "      <th></th>\n",
       "      <th>PHI_E</th>\n",
       "      <th>LAMBDA_E</th>\n",
       "      <th>PHI_S</th>\n",
       "      <th>LAMBDA_S</th>\n",
       "      <th>D(deg)</th>\n",
       "      <th>Az(deg)</th>\n",
       "      <th>Baz(deg)</th>\n",
       "    </tr>\n",
       "  </thead>\n",
       "  <tbody>\n",
       "    <tr>\n",
       "      <th>0</th>\n",
       "      <td>40</td>\n",
       "      <td>0</td>\n",
       "      <td>50</td>\n",
       "      <td>10</td>\n",
       "      <td>12.224070</td>\n",
       "      <td>31.813918</td>\n",
       "      <td>218.920943</td>\n",
       "    </tr>\n",
       "    <tr>\n",
       "      <th>1</th>\n",
       "      <td>60</td>\n",
       "      <td>0</td>\n",
       "      <td>70</td>\n",
       "      <td>10</td>\n",
       "      <td>10.823679</td>\n",
       "      <td>18.437403</td>\n",
       "      <td>207.539077</td>\n",
       "    </tr>\n",
       "    <tr>\n",
       "      <th>2</th>\n",
       "      <td>0</td>\n",
       "      <td>-30</td>\n",
       "      <td>60</td>\n",
       "      <td>60</td>\n",
       "      <td>90.000000</td>\n",
       "      <td>30.000000</td>\n",
       "      <td>270.000000</td>\n",
       "    </tr>\n",
       "  </tbody>\n",
       "</table>\n",
       "</div>"
      ],
      "text/plain": [
       "   PHI_E  LAMBDA_E  PHI_S  LAMBDA_S     D(deg)    Az(deg)    Baz(deg)\n",
       "0     40         0     50        10  12.224070  31.813918  218.920943\n",
       "1     60         0     70        10  10.823679  18.437403  207.539077\n",
       "2      0       -30     60        60  90.000000  30.000000  270.000000"
      ]
     },
     "execution_count": 37,
     "metadata": {},
     "output_type": "execute_result"
    }
   ],
   "source": [
    "# before correction into geocentric latitudes\n",
    "dataset"
   ]
  },
  {
   "cell_type": "code",
   "execution_count": null,
   "id": "c77358d7",
   "metadata": {},
   "outputs": [],
   "source": []
  }
 ],
 "metadata": {
  "kernelspec": {
   "display_name": "Python 3 (ipykernel)",
   "language": "python",
   "name": "python3"
  },
  "language_info": {
   "codemirror_mode": {
    "name": "ipython",
    "version": 3
   },
   "file_extension": ".py",
   "mimetype": "text/x-python",
   "name": "python",
   "nbconvert_exporter": "python",
   "pygments_lexer": "ipython3",
   "version": "3.11.4"
  }
 },
 "nbformat": 4,
 "nbformat_minor": 5
}
